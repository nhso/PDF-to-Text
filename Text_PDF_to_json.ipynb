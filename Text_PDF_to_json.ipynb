{
  "nbformat": 4,
  "nbformat_minor": 0,
  "metadata": {
    "colab": {
      "provenance": [],
      "authorship_tag": "ABX9TyPQthnelxbe+LxyWpM7+dYW",
      "include_colab_link": true
    },
    "kernelspec": {
      "name": "python3",
      "display_name": "Python 3"
    },
    "language_info": {
      "name": "python"
    }
  },
  "cells": [
    {
      "cell_type": "markdown",
      "metadata": {
        "id": "view-in-github",
        "colab_type": "text"
      },
      "source": [
        "<a href=\"https://colab.research.google.com/github/nhso/PDF-to-Json/blob/main/Text_PDF_to_json.ipynb\" target=\"_parent\"><img src=\"https://colab.research.google.com/assets/colab-badge.svg\" alt=\"Open In Colab\"/></a>"
      ]
    },
    {
      "cell_type": "code",
      "source": [
        "#!pip install pdfplumber"
      ],
      "metadata": {
        "id": "zM4eD0FADxZZ",
        "colab": {
          "base_uri": "https://localhost:8080/"
        },
        "outputId": "25c4a8d2-b348-4f92-e20f-04ac6bf3d0b3"
      },
      "execution_count": null,
      "outputs": [
        {
          "output_type": "stream",
          "name": "stdout",
          "text": [
            "Requirement already satisfied: pdfplumber in /usr/local/lib/python3.10/dist-packages (0.9.0)\n",
            "Requirement already satisfied: pdfminer.six==20221105 in /usr/local/lib/python3.10/dist-packages (from pdfplumber) (20221105)\n",
            "Requirement already satisfied: Pillow>=9.1 in /usr/local/lib/python3.10/dist-packages (from pdfplumber) (10.0.0)\n",
            "Requirement already satisfied: Wand>=0.6.10 in /usr/local/lib/python3.10/dist-packages (from pdfplumber) (0.6.11)\n",
            "Requirement already satisfied: charset-normalizer>=2.0.0 in /usr/local/lib/python3.10/dist-packages (from pdfminer.six==20221105->pdfplumber) (2.0.12)\n",
            "Requirement already satisfied: cryptography>=36.0.0 in /usr/local/lib/python3.10/dist-packages (from pdfminer.six==20221105->pdfplumber) (41.0.1)\n",
            "Requirement already satisfied: cffi>=1.12 in /usr/local/lib/python3.10/dist-packages (from cryptography>=36.0.0->pdfminer.six==20221105->pdfplumber) (1.15.1)\n",
            "Requirement already satisfied: pycparser in /usr/local/lib/python3.10/dist-packages (from cffi>=1.12->cryptography>=36.0.0->pdfminer.six==20221105->pdfplumber) (2.21)\n"
          ]
        }
      ]
    },
    {
      "cell_type": "code",
      "source": [
        "import pdfplumber\n",
        "import json\n",
        "\n",
        "def pdf_to_json(pdf_path, json_path):\n",
        "    with pdfplumber.open(pdf_path) as pdf:\n",
        "        data = []\n",
        "        for page in pdf.pages:\n",
        "            text = page.extract_text()\n",
        "            data.append(text)\n",
        "\n",
        "    with open(json_path, 'w') as json_file:\n",
        "        json.dump(data, json_file)\n",
        "\n",
        "# Specify the paths to your PDF and JSON files\n",
        "pdf_file = 'NHS ACT_book_revised Apr5.pdf'\n",
        "json_file = 'sample.json'\n",
        "\n",
        "# Call the function to convert the PDF to JSON\n",
        "pdf_to_json(pdf_file, json_file)"
      ],
      "metadata": {
        "id": "KHUrXNRGgCH-"
      },
      "execution_count": null,
      "outputs": []
    }
  ]
}